{
  "nbformat": 4,
  "nbformat_minor": 0,
  "metadata": {
    "colab": {
      "provenance": [],
      "toc_visible": true,
      "authorship_tag": "ABX9TyNsI175VN4knK6VjoxwGTh1",
      "include_colab_link": true
    },
    "kernelspec": {
      "name": "python3",
      "display_name": "Python 3"
    },
    "language_info": {
      "name": "python"
    }
  },
  "cells": [
    {
      "cell_type": "markdown",
      "metadata": {
        "id": "view-in-github",
        "colab_type": "text"
      },
      "source": [
        "<a href=\"https://colab.research.google.com/github/tanhhkhcndn/mobilenet-transfer-learning/blob/main/mobilenetSSD.ipynb\" target=\"_parent\"><img src=\"https://colab.research.google.com/assets/colab-badge.svg\" alt=\"Open In Colab\"/></a>"
      ]
    },
    {
      "cell_type": "markdown",
      "source": [
        "# Training MobileNetSSD Object Detection on a Custom Dataset\n",
        "## Overview\n",
        "This notebook walks through how to train a MobileNet object detection model using the TensorFlow 1.5 Object Detection API.\n",
        "\n",
        "In this specific example, we'll training an model to detect thief in edge devices.\n",
        "## **Our Data**\n",
        "\n",
        "We'll be using an image dataset from videos. Our dataset contains 614 images.\n",
        "We create two datasets in Roboflow: `train`, `test` and `valid`. Use Roboflow to generate TFRecords for each, replace their URLs in this notebook, and you're able to train on your own custom dataset.\n",
        "\n",
        "## **Our Model**\n",
        "\n",
        "We'll be training a MobileNetSSDv2 (single shot detector). This specific model is a one-short learner, meaning each image only passes through the network once to make a prediction, which allows the architecture to be very performant for low performace hardware.\n",
        "\n",
        "The model arechitecture is one of many available via TensorFlow's [model zoo](https://github.com/tensorflow/models/blob/master/research/object_detection/g3doc/detection_model_zoo.md#coco-trained-models).\n",
        "\n",
        "As a note, this notebook presumes TensorFlow 1.5 as TensorFlow 2.0 has yet to fully support the object detection API.\n",
        "\n",
        "## **Training**\n",
        "\n",
        "Google Colab provides free GPU resources. Click \"Runtime\" → \"Change runtime type\" → Hardware Accelerator dropdown to \"GPU.\"\n",
        "\n",
        "Colab does have memory limitations, and notebooks must be open in your browser to run. Sessions automatically clear themselves after 12 hours."
      ],
      "metadata": {
        "id": "FhGt-4PPZE6k"
      }
    },
    {
      "cell_type": "code",
      "execution_count": null,
      "metadata": {
        "id": "EAbtXlMGjulC"
      },
      "outputs": [],
      "source": []
    }
  ]
}